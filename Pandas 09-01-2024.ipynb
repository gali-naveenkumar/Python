{
 "cells": [
  {
   "cell_type": "markdown",
   "id": "719f678f",
   "metadata": {},
   "source": [
    "# Pandas"
   ]
  },
  {
   "cell_type": "code",
   "execution_count": 1,
   "id": "60b1f72b",
   "metadata": {},
   "outputs": [],
   "source": [
    "# pandas is a library of Python\n",
    "# Why?\n",
    "# Pandas is a python library used to work with data sets\n",
    "# It has functions for analyzing, cleaning, Exploring and manipulating the data\n",
    "# Pandas is developed by wes mckinney in 2008\n",
    "# Pandas is mostly used for EDA (Exploratory Data Analysis)"
   ]
  },
  {
   "cell_type": "code",
   "execution_count": 3,
   "id": "49f2d718",
   "metadata": {},
   "outputs": [
    {
     "name": "stderr",
     "output_type": "stream",
     "text": [
      "Unable to create process using 'C:\\Users\\Syed Rahman Hussain\\AppData\\Local\\anaconda3\\python.exe \"C:\\Users\\Syed Rahman Hussain\\AppData\\Local\\anaconda3\\Scripts\\pip-script.py\" install pandas'\n"
     ]
    }
   ],
   "source": [
    "# To install pandas library\n",
    "!pip install pandas"
   ]
  },
  {
   "cell_type": "code",
   "execution_count": 4,
   "id": "14356970",
   "metadata": {},
   "outputs": [],
   "source": [
    "# to use pandas library\n",
    "import pandas as pd # pd is the standard name of pandas"
   ]
  },
  {
   "cell_type": "code",
   "execution_count": 5,
   "id": "e68e9fb4",
   "metadata": {},
   "outputs": [
    {
     "name": "stdout",
     "output_type": "stream",
     "text": [
      "1.5.3\n"
     ]
    }
   ],
   "source": [
    "#  to check the version of library\n",
    "print(pd.__version__)"
   ]
  },
  {
   "cell_type": "code",
   "execution_count": 6,
   "id": "26749d8c",
   "metadata": {},
   "outputs": [],
   "source": [
    "# One Dim in pandas is called Series\n",
    "# Two Dim in pandas is called DataFrame"
   ]
  },
  {
   "cell_type": "code",
   "execution_count": 7,
   "id": "96f93127",
   "metadata": {},
   "outputs": [],
   "source": [
    "# Names list\n",
    "names = [\"Rahman\",'Adnan','Junaid','Siddique','Jaber','Sultan']"
   ]
  },
  {
   "cell_type": "code",
   "execution_count": 8,
   "id": "d67efd60",
   "metadata": {},
   "outputs": [
    {
     "name": "stdout",
     "output_type": "stream",
     "text": [
      "RAHMAN\n",
      "ADNAN\n",
      "JUNAID\n",
      "SIDDIQUE\n",
      "JABER\n",
      "SULTAN\n"
     ]
    }
   ],
   "source": [
    "for i in names:\n",
    "    print(i.upper())"
   ]
  },
  {
   "cell_type": "code",
   "execution_count": 9,
   "id": "a4bd3cf5",
   "metadata": {},
   "outputs": [],
   "source": [
    "age = [23,22,20,25,22,25]"
   ]
  },
  {
   "cell_type": "code",
   "execution_count": 10,
   "id": "295cf7c2",
   "metadata": {},
   "outputs": [
    {
     "name": "stdout",
     "output_type": "stream",
     "text": [
      "22.833333333333332\n"
     ]
    }
   ],
   "source": [
    "total = 0\n",
    "for i in age:\n",
    "    total += i\n",
    "    average = total/len(age)\n",
    "print(average)"
   ]
  },
  {
   "cell_type": "code",
   "execution_count": 11,
   "id": "8d3efd7f",
   "metadata": {},
   "outputs": [
    {
     "data": {
      "text/plain": [
       "list"
      ]
     },
     "execution_count": 11,
     "metadata": {},
     "output_type": "execute_result"
    }
   ],
   "source": [
    "type(names)"
   ]
  },
  {
   "cell_type": "code",
   "execution_count": 13,
   "id": "7f4be012",
   "metadata": {},
   "outputs": [
    {
     "data": {
      "text/plain": [
       "0      Rahman\n",
       "1       Adnan\n",
       "2      Junaid\n",
       "3    Siddique\n",
       "4       Jaber\n",
       "5      Sultan\n",
       "dtype: object"
      ]
     },
     "execution_count": 13,
     "metadata": {},
     "output_type": "execute_result"
    }
   ],
   "source": [
    "# converting list into pandas series\n",
    "sr = pd.Series(names)\n",
    "sr"
   ]
  },
  {
   "cell_type": "code",
   "execution_count": 16,
   "id": "a0ed89fe",
   "metadata": {},
   "outputs": [
    {
     "data": {
      "text/plain": [
       "pandas.core.series.Series"
      ]
     },
     "execution_count": 16,
     "metadata": {},
     "output_type": "execute_result"
    }
   ],
   "source": [
    "type(sr)"
   ]
  },
  {
   "cell_type": "code",
   "execution_count": 17,
   "id": "83e01db5",
   "metadata": {},
   "outputs": [],
   "source": [
    "student_details = {\n",
    "    \"ID\":[1,2,3,4,5],\n",
    "    \"Name\":[\"Rahman\",'Adnan','Junaid','Siddique','Jaber'],\n",
    "    \"Age\":[24,22,22,25,21]\n",
    "}"
   ]
  },
  {
   "cell_type": "code",
   "execution_count": 18,
   "id": "a7f24618",
   "metadata": {},
   "outputs": [
    {
     "data": {
      "text/plain": [
       "dict"
      ]
     },
     "execution_count": 18,
     "metadata": {},
     "output_type": "execute_result"
    }
   ],
   "source": [
    "type(student_details)"
   ]
  },
  {
   "cell_type": "code",
   "execution_count": 20,
   "id": "6d674d8c",
   "metadata": {},
   "outputs": [
    {
     "name": "stdout",
     "output_type": "stream",
     "text": [
      "ID [1, 2, 3, 4, 5]\n",
      "Name ['Rahman', 'Adnan', 'Junaid', 'Siddique', 'Jaber']\n",
      "Age [24, 22, 22, 25, 21]\n"
     ]
    }
   ],
   "source": [
    "for i,j in student_details.items():\n",
    "    print(i,j)"
   ]
  },
  {
   "cell_type": "code",
   "execution_count": 21,
   "id": "46425387",
   "metadata": {},
   "outputs": [
    {
     "data": {
      "text/html": [
       "<div>\n",
       "<style scoped>\n",
       "    .dataframe tbody tr th:only-of-type {\n",
       "        vertical-align: middle;\n",
       "    }\n",
       "\n",
       "    .dataframe tbody tr th {\n",
       "        vertical-align: top;\n",
       "    }\n",
       "\n",
       "    .dataframe thead th {\n",
       "        text-align: right;\n",
       "    }\n",
       "</style>\n",
       "<table border=\"1\" class=\"dataframe\">\n",
       "  <thead>\n",
       "    <tr style=\"text-align: right;\">\n",
       "      <th></th>\n",
       "      <th>ID</th>\n",
       "      <th>Name</th>\n",
       "      <th>Age</th>\n",
       "    </tr>\n",
       "  </thead>\n",
       "  <tbody>\n",
       "    <tr>\n",
       "      <th>0</th>\n",
       "      <td>1</td>\n",
       "      <td>Rahman</td>\n",
       "      <td>24</td>\n",
       "    </tr>\n",
       "    <tr>\n",
       "      <th>1</th>\n",
       "      <td>2</td>\n",
       "      <td>Adnan</td>\n",
       "      <td>22</td>\n",
       "    </tr>\n",
       "    <tr>\n",
       "      <th>2</th>\n",
       "      <td>3</td>\n",
       "      <td>Junaid</td>\n",
       "      <td>22</td>\n",
       "    </tr>\n",
       "    <tr>\n",
       "      <th>3</th>\n",
       "      <td>4</td>\n",
       "      <td>Siddique</td>\n",
       "      <td>25</td>\n",
       "    </tr>\n",
       "    <tr>\n",
       "      <th>4</th>\n",
       "      <td>5</td>\n",
       "      <td>Jaber</td>\n",
       "      <td>21</td>\n",
       "    </tr>\n",
       "  </tbody>\n",
       "</table>\n",
       "</div>"
      ],
      "text/plain": [
       "   ID      Name  Age\n",
       "0   1    Rahman   24\n",
       "1   2     Adnan   22\n",
       "2   3    Junaid   22\n",
       "3   4  Siddique   25\n",
       "4   5     Jaber   21"
      ]
     },
     "execution_count": 21,
     "metadata": {},
     "output_type": "execute_result"
    }
   ],
   "source": [
    "# converting dict into pandas DataFrame\n",
    "df = pd.DataFrame(student_details)\n",
    "df"
   ]
  },
  {
   "cell_type": "code",
   "execution_count": 23,
   "id": "2ebbae87",
   "metadata": {},
   "outputs": [
    {
     "data": {
      "text/plain": [
       "0      RAHMAN\n",
       "1       ADNAN\n",
       "2      JUNAID\n",
       "3    SIDDIQUE\n",
       "4       JABER\n",
       "Name: Name, dtype: object"
      ]
     },
     "execution_count": 23,
     "metadata": {},
     "output_type": "execute_result"
    }
   ],
   "source": [
    "df['Name'].str.upper()"
   ]
  },
  {
   "cell_type": "code",
   "execution_count": 24,
   "id": "2b01bbdf",
   "metadata": {},
   "outputs": [
    {
     "data": {
      "text/plain": [
       "22.8"
      ]
     },
     "execution_count": 24,
     "metadata": {},
     "output_type": "execute_result"
    }
   ],
   "source": [
    "df['Age'].mean()"
   ]
  },
  {
   "cell_type": "code",
   "execution_count": 25,
   "id": "c28090a5",
   "metadata": {},
   "outputs": [
    {
     "data": {
      "text/plain": [
       "pandas.core.frame.DataFrame"
      ]
     },
     "execution_count": 25,
     "metadata": {},
     "output_type": "execute_result"
    }
   ],
   "source": [
    "type(df)"
   ]
  },
  {
   "cell_type": "code",
   "execution_count": 26,
   "id": "20d150ca",
   "metadata": {},
   "outputs": [],
   "source": [
    "# task\n",
    "# Scrapping the data from the website\n",
    "# The data stored in the data structure in python\n",
    "# convert data structre into dataframe\n",
    "# After Preproccessing the data\n",
    "# load the data into any type of file"
   ]
  },
  {
   "cell_type": "code",
   "execution_count": 28,
   "id": "84b6f40e",
   "metadata": {},
   "outputs": [],
   "source": [
    "# to load the data into a file\n",
    "df.to_csv(\"Student_Details.csv\",index=False)"
   ]
  },
  {
   "cell_type": "code",
   "execution_count": 29,
   "id": "707d0f78",
   "metadata": {},
   "outputs": [
    {
     "data": {
      "text/html": [
       "<div>\n",
       "<style scoped>\n",
       "    .dataframe tbody tr th:only-of-type {\n",
       "        vertical-align: middle;\n",
       "    }\n",
       "\n",
       "    .dataframe tbody tr th {\n",
       "        vertical-align: top;\n",
       "    }\n",
       "\n",
       "    .dataframe thead th {\n",
       "        text-align: right;\n",
       "    }\n",
       "</style>\n",
       "<table border=\"1\" class=\"dataframe\">\n",
       "  <thead>\n",
       "    <tr style=\"text-align: right;\">\n",
       "      <th></th>\n",
       "      <th>ID</th>\n",
       "      <th>Name</th>\n",
       "      <th>Age</th>\n",
       "    </tr>\n",
       "  </thead>\n",
       "  <tbody>\n",
       "    <tr>\n",
       "      <th>0</th>\n",
       "      <td>1</td>\n",
       "      <td>Rahman</td>\n",
       "      <td>24</td>\n",
       "    </tr>\n",
       "    <tr>\n",
       "      <th>1</th>\n",
       "      <td>2</td>\n",
       "      <td>Adnan</td>\n",
       "      <td>22</td>\n",
       "    </tr>\n",
       "    <tr>\n",
       "      <th>2</th>\n",
       "      <td>3</td>\n",
       "      <td>Junaid</td>\n",
       "      <td>22</td>\n",
       "    </tr>\n",
       "    <tr>\n",
       "      <th>3</th>\n",
       "      <td>4</td>\n",
       "      <td>Siddique</td>\n",
       "      <td>25</td>\n",
       "    </tr>\n",
       "    <tr>\n",
       "      <th>4</th>\n",
       "      <td>5</td>\n",
       "      <td>Jaber</td>\n",
       "      <td>21</td>\n",
       "    </tr>\n",
       "  </tbody>\n",
       "</table>\n",
       "</div>"
      ],
      "text/plain": [
       "   ID      Name  Age\n",
       "0   1    Rahman   24\n",
       "1   2     Adnan   22\n",
       "2   3    Junaid   22\n",
       "3   4  Siddique   25\n",
       "4   5     Jaber   21"
      ]
     },
     "execution_count": 29,
     "metadata": {},
     "output_type": "execute_result"
    }
   ],
   "source": [
    "# to read csv file data\n",
    "df1 = pd.read_csv(\"Student_Details.csv\")\n",
    "df1"
   ]
  },
  {
   "cell_type": "code",
   "execution_count": 32,
   "id": "9c21e392",
   "metadata": {},
   "outputs": [
    {
     "name": "stderr",
     "output_type": "stream",
     "text": [
      "Unable to create process using 'C:\\Users\\Syed Rahman Hussain\\AppData\\Local\\anaconda3\\python.exe \"C:\\Users\\Syed Rahman Hussain\\AppData\\Local\\anaconda3\\Scripts\\pip-script.py\" install pymysql'\n"
     ]
    }
   ],
   "source": [
    "!pip install pymysql"
   ]
  },
  {
   "cell_type": "code",
   "execution_count": 30,
   "id": "6884e48d",
   "metadata": {},
   "outputs": [],
   "source": [
    "# To create connection between python and mysql Database Application\n",
    "# cerd user='root',host='localhost',port=3306,password='mysql',db='classicmodels'\n",
    "\n",
    "import pymysql as sql"
   ]
  },
  {
   "cell_type": "code",
   "execution_count": 36,
   "id": "f6e9a65e",
   "metadata": {},
   "outputs": [
    {
     "name": "stdout",
     "output_type": "stream",
     "text": [
      "<pymysql.connections.Connection object at 0x000002147ABE7DF0>\n"
     ]
    }
   ],
   "source": [
    "conn = sql.Connect(user='root',\n",
    "                  host='localhost',\n",
    "                  port=3306,\n",
    "                  password='mysql',\n",
    "                  db='healthcare')\n",
    "print(conn)"
   ]
  },
  {
   "cell_type": "code",
   "execution_count": 37,
   "id": "b226fdc4",
   "metadata": {},
   "outputs": [
    {
     "name": "stderr",
     "output_type": "stream",
     "text": [
      "C:\\Users\\Syed Rahman Hussain\\AppData\\Local\\Temp\\ipykernel_9212\\2247987680.py:1: UserWarning: pandas only supports SQLAlchemy connectable (engine/connection) or database string URI or sqlite3 DBAPI2 connection. Other DBAPI2 objects are not tested. Please consider using SQLAlchemy.\n",
      "  app_df = pd.read_sql_query(\"select * from appointments;\",conn)\n"
     ]
    },
    {
     "data": {
      "text/html": [
       "<div>\n",
       "<style scoped>\n",
       "    .dataframe tbody tr th:only-of-type {\n",
       "        vertical-align: middle;\n",
       "    }\n",
       "\n",
       "    .dataframe tbody tr th {\n",
       "        vertical-align: top;\n",
       "    }\n",
       "\n",
       "    .dataframe thead th {\n",
       "        text-align: right;\n",
       "    }\n",
       "</style>\n",
       "<table border=\"1\" class=\"dataframe\">\n",
       "  <thead>\n",
       "    <tr style=\"text-align: right;\">\n",
       "      <th></th>\n",
       "      <th>AppointmentID</th>\n",
       "      <th>PatientID</th>\n",
       "      <th>DoctorID</th>\n",
       "      <th>AppointmentDate</th>\n",
       "    </tr>\n",
       "  </thead>\n",
       "  <tbody>\n",
       "    <tr>\n",
       "      <th>0</th>\n",
       "      <td>1</td>\n",
       "      <td>39</td>\n",
       "      <td>6</td>\n",
       "      <td>2023-11-19</td>\n",
       "    </tr>\n",
       "    <tr>\n",
       "      <th>1</th>\n",
       "      <td>2</td>\n",
       "      <td>69</td>\n",
       "      <td>1</td>\n",
       "      <td>2023-10-06</td>\n",
       "    </tr>\n",
       "    <tr>\n",
       "      <th>2</th>\n",
       "      <td>3</td>\n",
       "      <td>93</td>\n",
       "      <td>3</td>\n",
       "      <td>2023-10-11</td>\n",
       "    </tr>\n",
       "    <tr>\n",
       "      <th>3</th>\n",
       "      <td>4</td>\n",
       "      <td>65</td>\n",
       "      <td>8</td>\n",
       "      <td>2023-10-30</td>\n",
       "    </tr>\n",
       "    <tr>\n",
       "      <th>4</th>\n",
       "      <td>5</td>\n",
       "      <td>45</td>\n",
       "      <td>7</td>\n",
       "      <td>2023-10-11</td>\n",
       "    </tr>\n",
       "    <tr>\n",
       "      <th>...</th>\n",
       "      <td>...</td>\n",
       "      <td>...</td>\n",
       "      <td>...</td>\n",
       "      <td>...</td>\n",
       "    </tr>\n",
       "    <tr>\n",
       "      <th>95</th>\n",
       "      <td>96</td>\n",
       "      <td>17</td>\n",
       "      <td>8</td>\n",
       "      <td>2023-11-03</td>\n",
       "    </tr>\n",
       "    <tr>\n",
       "      <th>96</th>\n",
       "      <td>97</td>\n",
       "      <td>11</td>\n",
       "      <td>8</td>\n",
       "      <td>2023-10-19</td>\n",
       "    </tr>\n",
       "    <tr>\n",
       "      <th>97</th>\n",
       "      <td>98</td>\n",
       "      <td>48</td>\n",
       "      <td>3</td>\n",
       "      <td>2023-11-24</td>\n",
       "    </tr>\n",
       "    <tr>\n",
       "      <th>98</th>\n",
       "      <td>99</td>\n",
       "      <td>4</td>\n",
       "      <td>9</td>\n",
       "      <td>2023-11-04</td>\n",
       "    </tr>\n",
       "    <tr>\n",
       "      <th>99</th>\n",
       "      <td>100</td>\n",
       "      <td>16</td>\n",
       "      <td>8</td>\n",
       "      <td>2023-11-29</td>\n",
       "    </tr>\n",
       "  </tbody>\n",
       "</table>\n",
       "<p>100 rows × 4 columns</p>\n",
       "</div>"
      ],
      "text/plain": [
       "    AppointmentID  PatientID  DoctorID AppointmentDate\n",
       "0               1         39         6      2023-11-19\n",
       "1               2         69         1      2023-10-06\n",
       "2               3         93         3      2023-10-11\n",
       "3               4         65         8      2023-10-30\n",
       "4               5         45         7      2023-10-11\n",
       "..            ...        ...       ...             ...\n",
       "95             96         17         8      2023-11-03\n",
       "96             97         11         8      2023-10-19\n",
       "97             98         48         3      2023-11-24\n",
       "98             99          4         9      2023-11-04\n",
       "99            100         16         8      2023-11-29\n",
       "\n",
       "[100 rows x 4 columns]"
      ]
     },
     "execution_count": 37,
     "metadata": {},
     "output_type": "execute_result"
    }
   ],
   "source": [
    "app_df = pd.read_sql_query(\"select * from appointments;\",conn)\n",
    "app_df"
   ]
  },
  {
   "cell_type": "code",
   "execution_count": null,
   "id": "c258c68c",
   "metadata": {},
   "outputs": [],
   "source": []
  }
 ],
 "metadata": {
  "kernelspec": {
   "display_name": "Python 3 (ipykernel)",
   "language": "python",
   "name": "python3"
  },
  "language_info": {
   "codemirror_mode": {
    "name": "ipython",
    "version": 3
   },
   "file_extension": ".py",
   "mimetype": "text/x-python",
   "name": "python",
   "nbconvert_exporter": "python",
   "pygments_lexer": "ipython3",
   "version": "3.10.9"
  }
 },
 "nbformat": 4,
 "nbformat_minor": 5
}
