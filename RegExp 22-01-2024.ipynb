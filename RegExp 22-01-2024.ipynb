{
 "cells": [
  {
   "cell_type": "markdown",
   "id": "e2abec5c",
   "metadata": {},
   "source": [
    "# Regular Expression"
   ]
  },
  {
   "cell_type": "code",
   "execution_count": 2,
   "id": "7f335191",
   "metadata": {},
   "outputs": [],
   "source": [
    "# Regular Expression in Python is used to Preprocess the data\n",
    "# RE is in built library of Python\n",
    "# which is used to search a specific pattern from the text\n",
    "# and also used to check wheather the string contain any specific pattern"
   ]
  },
  {
   "cell_type": "code",
   "execution_count": 3,
   "id": "8cff04a2",
   "metadata": {},
   "outputs": [],
   "source": [
    "import re"
   ]
  },
  {
   "cell_type": "code",
   "execution_count": 4,
   "id": "6ed02df5",
   "metadata": {},
   "outputs": [
    {
     "name": "stdout",
     "output_type": "stream",
     "text": [
      "Python is a Programming Language.\n"
     ]
    }
   ],
   "source": [
    "txt = \"Python is a Programming Language.\"\n",
    "print(txt)"
   ]
  },
  {
   "cell_type": "code",
   "execution_count": 5,
   "id": "c7c24950",
   "metadata": {},
   "outputs": [
    {
     "name": "stdout",
     "output_type": "stream",
     "text": [
      "<re.Match object; span=(0, 33), match='Python is a Programming Language.'>\n"
     ]
    }
   ],
   "source": [
    "print(re.search(\"^Python.*Language.$\",txt))"
   ]
  },
  {
   "cell_type": "code",
   "execution_count": 6,
   "id": "0f749849",
   "metadata": {},
   "outputs": [
    {
     "name": "stdout",
     "output_type": "stream",
     "text": [
      "Yes\n"
     ]
    }
   ],
   "source": [
    "# Checking Pattern\n",
    "pt = re.findall(\"^P\",txt)\n",
    "if pt:\n",
    "    print(\"Yes\")\n",
    "else:\n",
    "    print(\"No\")"
   ]
  },
  {
   "cell_type": "code",
   "execution_count": 7,
   "id": "3c47cfd3",
   "metadata": {},
   "outputs": [
    {
     "name": "stdout",
     "output_type": "stream",
     "text": [
      "['P', 'P', 'L']\n"
     ]
    }
   ],
   "source": [
    "print(re.findall(\"[A-Z]\",txt))"
   ]
  },
  {
   "cell_type": "code",
   "execution_count": 8,
   "id": "48c9d933",
   "metadata": {},
   "outputs": [
    {
     "name": "stdout",
     "output_type": "stream",
     "text": [
      "['y', 't', 'h', 'o', 'n', 'i', 's', 'a', 'r', 'o', 'g', 'r', 'a', 'm', 'm', 'i', 'n', 'g', 'a', 'n', 'g', 'u', 'a', 'g', 'e']\n"
     ]
    }
   ],
   "source": [
    "print(re.findall(\"[a-z]\",txt))"
   ]
  },
  {
   "cell_type": "code",
   "execution_count": 9,
   "id": "f27c3a0e",
   "metadata": {},
   "outputs": [
    {
     "name": "stdout",
     "output_type": "stream",
     "text": [
      "['P']\n"
     ]
    }
   ],
   "source": [
    "print(re.findall(\"^[A-Z]\",txt))"
   ]
  },
  {
   "cell_type": "code",
   "execution_count": 10,
   "id": "4c20bf21",
   "metadata": {},
   "outputs": [],
   "source": [
    "data = \"TZ1001, Syed Rahman, 24, 8374316403\""
   ]
  },
  {
   "cell_type": "code",
   "execution_count": 11,
   "id": "3ec61ae4",
   "metadata": {},
   "outputs": [
    {
     "name": "stdout",
     "output_type": "stream",
     "text": [
      "['1', '0', '0', '1', '2', '4', '8', '3', '7', '4', '3', '1', '6', '4', '0', '3']\n"
     ]
    }
   ],
   "source": [
    "print(re.findall(\"[0-9]\",data))"
   ]
  },
  {
   "cell_type": "code",
   "execution_count": 14,
   "id": "4af471db",
   "metadata": {},
   "outputs": [
    {
     "name": "stdout",
     "output_type": "stream",
     "text": [
      "['8374316403']\n"
     ]
    }
   ],
   "source": [
    "print(re.findall(\"[0-9][0-9][0-9][0-9][0-9][0-9][0-9][0-9][0-9][0-9]\",data))"
   ]
  },
  {
   "cell_type": "code",
   "execution_count": 15,
   "id": "333cfb77",
   "metadata": {},
   "outputs": [
    {
     "data": {
      "text/plain": [
       "str"
      ]
     },
     "execution_count": 15,
     "metadata": {},
     "output_type": "execute_result"
    }
   ],
   "source": [
    "type(data)"
   ]
  },
  {
   "cell_type": "code",
   "execution_count": 18,
   "id": "52f3aa03",
   "metadata": {},
   "outputs": [
    {
     "name": "stdout",
     "output_type": "stream",
     "text": [
      "['TZ1001', ' Syed Rahman', ' 24', ' 8374316403']\n"
     ]
    }
   ],
   "source": [
    "print(re.split(\",\",data))"
   ]
  },
  {
   "cell_type": "code",
   "execution_count": 19,
   "id": "61e6e82b",
   "metadata": {},
   "outputs": [
    {
     "data": {
      "text/plain": [
       "'Python is a Programming Language.'"
      ]
     },
     "execution_count": 19,
     "metadata": {},
     "output_type": "execute_result"
    }
   ],
   "source": [
    "txt"
   ]
  },
  {
   "cell_type": "code",
   "execution_count": 21,
   "id": "b5d427ae",
   "metadata": {},
   "outputs": [
    {
     "name": "stdout",
     "output_type": "stream",
     "text": [
      "Java is a Programming Language.\n"
     ]
    }
   ],
   "source": [
    "print(re.sub(\"Python\",\"Java\",txt))"
   ]
  },
  {
   "cell_type": "code",
   "execution_count": 22,
   "id": "166be76f",
   "metadata": {},
   "outputs": [],
   "source": [
    "txt = \"Python is a Programming Language. Python is used to create Mobile Application.\""
   ]
  },
  {
   "cell_type": "code",
   "execution_count": 23,
   "id": "e8072589",
   "metadata": {},
   "outputs": [
    {
     "data": {
      "text/plain": [
       "'Python is a Programming Language. Python is used to create Mobile Application.'"
      ]
     },
     "execution_count": 23,
     "metadata": {},
     "output_type": "execute_result"
    }
   ],
   "source": [
    "txt"
   ]
  },
  {
   "cell_type": "code",
   "execution_count": 24,
   "id": "2dacaea1",
   "metadata": {},
   "outputs": [
    {
     "name": "stdout",
     "output_type": "stream",
     "text": [
      "Java is a Programming Language. Java is used to create Mobile Application.\n"
     ]
    }
   ],
   "source": [
    "print(re.sub(\"Python\",\"Java\",txt))"
   ]
  },
  {
   "cell_type": "code",
   "execution_count": 25,
   "id": "1fe73b3e",
   "metadata": {},
   "outputs": [
    {
     "name": "stdout",
     "output_type": "stream",
     "text": [
      "('Java is a Programming Language. Java is used to create Mobile Application.', 2)\n"
     ]
    }
   ],
   "source": [
    "print(re.subn(\"Python\",\"Java\",txt))"
   ]
  },
  {
   "cell_type": "code",
   "execution_count": 28,
   "id": "48d66939",
   "metadata": {},
   "outputs": [
    {
     "name": "stdout",
     "output_type": "stream",
     "text": [
      "Enter Valid Email!: 9283tghire\n"
     ]
    }
   ],
   "source": [
    "email = input(\"Enter Valid Email!: \")"
   ]
  },
  {
   "cell_type": "code",
   "execution_count": 29,
   "id": "1d5cba05",
   "metadata": {},
   "outputs": [
    {
     "data": {
      "text/plain": [
       "'9283tghire'"
      ]
     },
     "execution_count": 29,
     "metadata": {},
     "output_type": "execute_result"
    }
   ],
   "source": [
    "email"
   ]
  },
  {
   "cell_type": "code",
   "execution_count": 32,
   "id": "164b8042",
   "metadata": {},
   "outputs": [
    {
     "name": "stdout",
     "output_type": "stream",
     "text": [
      "Enter Valid Email!: srhussayn@gmail.com\n",
      "Thank You For Entering Email!\n"
     ]
    }
   ],
   "source": [
    "# Creating a program which takes valid emails from the users\n",
    "email = input(\"Enter Valid Email!: \")\n",
    "\n",
    "if \"@\" in re.findall('[^a-zA-Z0-9]',email) and \".\" in re.findall('[^a-zA-Z0-9]',email):\n",
    "    print(\"Thank You For Entering Email!\")\n",
    "else:\n",
    "    print(\"Enter a Valid Email!\")"
   ]
  },
  {
   "cell_type": "code",
   "execution_count": 35,
   "id": "884eb62d",
   "metadata": {},
   "outputs": [
    {
     "data": {
      "text/html": [
       "<div>\n",
       "<style scoped>\n",
       "    .dataframe tbody tr th:only-of-type {\n",
       "        vertical-align: middle;\n",
       "    }\n",
       "\n",
       "    .dataframe tbody tr th {\n",
       "        vertical-align: top;\n",
       "    }\n",
       "\n",
       "    .dataframe thead th {\n",
       "        text-align: right;\n",
       "    }\n",
       "</style>\n",
       "<table border=\"1\" class=\"dataframe\">\n",
       "  <thead>\n",
       "    <tr style=\"text-align: right;\">\n",
       "      <th></th>\n",
       "      <th>Dates</th>\n",
       "      <th>Year</th>\n",
       "      <th>SalesPerson</th>\n",
       "      <th>Gender</th>\n",
       "      <th>Location</th>\n",
       "      <th>Product</th>\n",
       "      <th>Sales</th>\n",
       "      <th>Units</th>\n",
       "      <th>CostPerUnit</th>\n",
       "      <th>M Cost</th>\n",
       "      <th>Profit/Loss</th>\n",
       "    </tr>\n",
       "  </thead>\n",
       "  <tbody>\n",
       "    <tr>\n",
       "      <th>0</th>\n",
       "      <td>01-01-2015</td>\n",
       "      <td>2015</td>\n",
       "      <td>Mahesh Raju</td>\n",
       "      <td>Male</td>\n",
       "      <td>New Zealand</td>\n",
       "      <td>70% Dark Bites</td>\n",
       "      <td>1624</td>\n",
       "      <td>114</td>\n",
       "      <td>14.49</td>\n",
       "      <td>1651.86</td>\n",
       "      <td>-27.86</td>\n",
       "    </tr>\n",
       "    <tr>\n",
       "      <th>1</th>\n",
       "      <td>02-01-2015</td>\n",
       "      <td>2015</td>\n",
       "      <td>Siddhart Singh</td>\n",
       "      <td>Male</td>\n",
       "      <td>USA</td>\n",
       "      <td>Choco Coated Almonds</td>\n",
       "      <td>6706</td>\n",
       "      <td>459</td>\n",
       "      <td>8.65</td>\n",
       "      <td>3970.35</td>\n",
       "      <td>2735.65</td>\n",
       "    </tr>\n",
       "    <tr>\n",
       "      <th>2</th>\n",
       "      <td>03-01-2015</td>\n",
       "      <td>2015</td>\n",
       "      <td>Hussain Abdul</td>\n",
       "      <td>Male</td>\n",
       "      <td>USA</td>\n",
       "      <td>Almond Choco</td>\n",
       "      <td>959</td>\n",
       "      <td>147</td>\n",
       "      <td>11.88</td>\n",
       "      <td>1746.36</td>\n",
       "      <td>-787.36</td>\n",
       "    </tr>\n",
       "    <tr>\n",
       "      <th>3</th>\n",
       "      <td>04-01-2015</td>\n",
       "      <td>2015</td>\n",
       "      <td>Simran Prakash</td>\n",
       "      <td>Female</td>\n",
       "      <td>Canada</td>\n",
       "      <td>Drinking Coco</td>\n",
       "      <td>9632</td>\n",
       "      <td>288</td>\n",
       "      <td>6.47</td>\n",
       "      <td>1863.36</td>\n",
       "      <td>7768.64</td>\n",
       "    </tr>\n",
       "    <tr>\n",
       "      <th>4</th>\n",
       "      <td>05-01-2015</td>\n",
       "      <td>2015</td>\n",
       "      <td>Vishnu Advani</td>\n",
       "      <td>Male</td>\n",
       "      <td>UK</td>\n",
       "      <td>White Choc</td>\n",
       "      <td>2100</td>\n",
       "      <td>414</td>\n",
       "      <td>13.15</td>\n",
       "      <td>5444.10</td>\n",
       "      <td>-3344.10</td>\n",
       "    </tr>\n",
       "  </tbody>\n",
       "</table>\n",
       "</div>"
      ],
      "text/plain": [
       "        Dates  Year     SalesPerson  Gender     Location  \\\n",
       "0  01-01-2015  2015     Mahesh Raju    Male  New Zealand   \n",
       "1  02-01-2015  2015  Siddhart Singh    Male          USA   \n",
       "2  03-01-2015  2015   Hussain Abdul    Male          USA   \n",
       "3  04-01-2015  2015  Simran Prakash  Female       Canada   \n",
       "4  05-01-2015  2015   Vishnu Advani    Male           UK   \n",
       "\n",
       "                Product  Sales  Units  CostPerUnit   M Cost  Profit/Loss  \n",
       "0        70% Dark Bites   1624    114        14.49  1651.86       -27.86  \n",
       "1  Choco Coated Almonds   6706    459         8.65  3970.35      2735.65  \n",
       "2          Almond Choco    959    147        11.88  1746.36      -787.36  \n",
       "3         Drinking Coco   9632    288         6.47  1863.36      7768.64  \n",
       "4            White Choc   2100    414        13.15  5444.10     -3344.10  "
      ]
     },
     "execution_count": 35,
     "metadata": {},
     "output_type": "execute_result"
    }
   ],
   "source": [
    "import pandas as pd\n",
    "df = pd.read_csv(\"A:/Data Anlayst Course/Datasets/cds.csv\")\n",
    "df.head()"
   ]
  },
  {
   "cell_type": "code",
   "execution_count": 37,
   "id": "e8a7b39a",
   "metadata": {},
   "outputs": [
    {
     "data": {
      "text/html": [
       "<div>\n",
       "<style scoped>\n",
       "    .dataframe tbody tr th:only-of-type {\n",
       "        vertical-align: middle;\n",
       "    }\n",
       "\n",
       "    .dataframe tbody tr th {\n",
       "        vertical-align: top;\n",
       "    }\n",
       "\n",
       "    .dataframe thead th {\n",
       "        text-align: right;\n",
       "    }\n",
       "</style>\n",
       "<table border=\"1\" class=\"dataframe\">\n",
       "  <thead>\n",
       "    <tr style=\"text-align: right;\">\n",
       "      <th></th>\n",
       "      <th>SalesPerson</th>\n",
       "      <th>Gender</th>\n",
       "      <th>Location</th>\n",
       "      <th>Product</th>\n",
       "      <th>Sales</th>\n",
       "    </tr>\n",
       "  </thead>\n",
       "  <tbody>\n",
       "    <tr>\n",
       "      <th>0</th>\n",
       "      <td>Mahesh Raju</td>\n",
       "      <td>Male</td>\n",
       "      <td>New Zealand</td>\n",
       "      <td>70% Dark Bites</td>\n",
       "      <td>1624</td>\n",
       "    </tr>\n",
       "    <tr>\n",
       "      <th>1</th>\n",
       "      <td>Siddhart Singh</td>\n",
       "      <td>Male</td>\n",
       "      <td>USA</td>\n",
       "      <td>Choco Coated Almonds</td>\n",
       "      <td>6706</td>\n",
       "    </tr>\n",
       "    <tr>\n",
       "      <th>2</th>\n",
       "      <td>Hussain Abdul</td>\n",
       "      <td>Male</td>\n",
       "      <td>USA</td>\n",
       "      <td>Almond Choco</td>\n",
       "      <td>959</td>\n",
       "    </tr>\n",
       "    <tr>\n",
       "      <th>3</th>\n",
       "      <td>Simran Prakash</td>\n",
       "      <td>Female</td>\n",
       "      <td>Canada</td>\n",
       "      <td>Drinking Coco</td>\n",
       "      <td>9632</td>\n",
       "    </tr>\n",
       "    <tr>\n",
       "      <th>4</th>\n",
       "      <td>Vishnu Advani</td>\n",
       "      <td>Male</td>\n",
       "      <td>UK</td>\n",
       "      <td>White Choc</td>\n",
       "      <td>2100</td>\n",
       "    </tr>\n",
       "  </tbody>\n",
       "</table>\n",
       "</div>"
      ],
      "text/plain": [
       "      SalesPerson  Gender     Location               Product  Sales\n",
       "0     Mahesh Raju    Male  New Zealand        70% Dark Bites   1624\n",
       "1  Siddhart Singh    Male          USA  Choco Coated Almonds   6706\n",
       "2   Hussain Abdul    Male          USA          Almond Choco    959\n",
       "3  Simran Prakash  Female       Canada         Drinking Coco   9632\n",
       "4   Vishnu Advani    Male           UK            White Choc   2100"
      ]
     },
     "execution_count": 37,
     "metadata": {},
     "output_type": "execute_result"
    }
   ],
   "source": [
    "df_ = df[['SalesPerson',\"Gender\",\"Location\",'Product',\"Sales\"]]\n",
    "df_.head()"
   ]
  },
  {
   "cell_type": "code",
   "execution_count": 38,
   "id": "96079f92",
   "metadata": {},
   "outputs": [
    {
     "data": {
      "text/plain": [
       "array(['70% Dark Bites', 'Choco Coated Almonds', 'Almond Choco',\n",
       "       'Drinking Coco', 'White Choc', 'Peanut Butter Cubes',\n",
       "       'Smooth Sliky Salty', 'After Nines', '50% Dark Bites', 'Eclairs',\n",
       "       'Mint Chip Choco', 'Milk Bars', 'Manuka Honey Choco',\n",
       "       'Orange Choco', 'Fruit & Nut Bars', '99% Dark & Pure',\n",
       "       'Raspberry Choco', '85% Dark Bars', 'Organic Choco Syrup',\n",
       "       'Caramel Stuffed Bars', 'Spicy Special Slims',\n",
       "       \"Baker's Choco Chips\"], dtype=object)"
      ]
     },
     "execution_count": 38,
     "metadata": {},
     "output_type": "execute_result"
    }
   ],
   "source": [
    "df_['Product'].unique()"
   ]
  },
  {
   "cell_type": "code",
   "execution_count": 39,
   "id": "37595567",
   "metadata": {},
   "outputs": [
    {
     "data": {
      "text/plain": [
       "0            70% Dark Bites\n",
       "1      Choco Coated Almonds\n",
       "2              Almond Choco\n",
       "3             Drinking Coco\n",
       "4                White Choc\n",
       "               ...         \n",
       "295            Almond Choco\n",
       "296     Baker's Choco Chips\n",
       "297     Peanut Butter Cubes\n",
       "298         Raspberry Choco\n",
       "299              White Choc\n",
       "Name: Product, Length: 300, dtype: object"
      ]
     },
     "execution_count": 39,
     "metadata": {},
     "output_type": "execute_result"
    }
   ],
   "source": [
    "df_[\"Product\"]"
   ]
  },
  {
   "cell_type": "code",
   "execution_count": 40,
   "id": "ed7704e3",
   "metadata": {},
   "outputs": [
    {
     "data": {
      "text/html": [
       "<div>\n",
       "<style scoped>\n",
       "    .dataframe tbody tr th:only-of-type {\n",
       "        vertical-align: middle;\n",
       "    }\n",
       "\n",
       "    .dataframe tbody tr th {\n",
       "        vertical-align: top;\n",
       "    }\n",
       "\n",
       "    .dataframe thead th {\n",
       "        text-align: right;\n",
       "    }\n",
       "</style>\n",
       "<table border=\"1\" class=\"dataframe\">\n",
       "  <thead>\n",
       "    <tr style=\"text-align: right;\">\n",
       "      <th></th>\n",
       "      <th>SalesPerson</th>\n",
       "      <th>Gender</th>\n",
       "      <th>Location</th>\n",
       "      <th>Product</th>\n",
       "      <th>Sales</th>\n",
       "    </tr>\n",
       "  </thead>\n",
       "  <tbody>\n",
       "    <tr>\n",
       "      <th>1</th>\n",
       "      <td>Siddhart Singh</td>\n",
       "      <td>Male</td>\n",
       "      <td>USA</td>\n",
       "      <td>Choco Coated Almonds</td>\n",
       "      <td>6706</td>\n",
       "    </tr>\n",
       "    <tr>\n",
       "      <th>38</th>\n",
       "      <td>Sameer Khan</td>\n",
       "      <td>Male</td>\n",
       "      <td>India</td>\n",
       "      <td>Choco Coated Almonds</td>\n",
       "      <td>3262</td>\n",
       "    </tr>\n",
       "    <tr>\n",
       "      <th>46</th>\n",
       "      <td>Priya Ranu</td>\n",
       "      <td>Female</td>\n",
       "      <td>Australia</td>\n",
       "      <td>Choco Coated Almonds</td>\n",
       "      <td>5075</td>\n",
       "    </tr>\n",
       "    <tr>\n",
       "      <th>57</th>\n",
       "      <td>Abhinav Sinha</td>\n",
       "      <td>Male</td>\n",
       "      <td>India</td>\n",
       "      <td>Choco Coated Almonds</td>\n",
       "      <td>7777</td>\n",
       "    </tr>\n",
       "    <tr>\n",
       "      <th>61</th>\n",
       "      <td>Vishnu Advani</td>\n",
       "      <td>Male</td>\n",
       "      <td>Canada</td>\n",
       "      <td>Choco Coated Almonds</td>\n",
       "      <td>6118</td>\n",
       "    </tr>\n",
       "    <tr>\n",
       "      <th>98</th>\n",
       "      <td>Mahesh Raju</td>\n",
       "      <td>Male</td>\n",
       "      <td>USA</td>\n",
       "      <td>Choco Coated Almonds</td>\n",
       "      <td>12348</td>\n",
       "    </tr>\n",
       "    <tr>\n",
       "      <th>128</th>\n",
       "      <td>Sundar Prasad</td>\n",
       "      <td>Male</td>\n",
       "      <td>Canada</td>\n",
       "      <td>Choco Coated Almonds</td>\n",
       "      <td>6657</td>\n",
       "    </tr>\n",
       "    <tr>\n",
       "      <th>137</th>\n",
       "      <td>Siddhart Singh</td>\n",
       "      <td>Male</td>\n",
       "      <td>Australia</td>\n",
       "      <td>Choco Coated Almonds</td>\n",
       "      <td>3752</td>\n",
       "    </tr>\n",
       "    <tr>\n",
       "      <th>200</th>\n",
       "      <td>Simran Prakash</td>\n",
       "      <td>Female</td>\n",
       "      <td>Canada</td>\n",
       "      <td>Choco Coated Almonds</td>\n",
       "      <td>10304</td>\n",
       "    </tr>\n",
       "    <tr>\n",
       "      <th>220</th>\n",
       "      <td>Hussain Abdul</td>\n",
       "      <td>Male</td>\n",
       "      <td>Canada</td>\n",
       "      <td>Choco Coated Almonds</td>\n",
       "      <td>2954</td>\n",
       "    </tr>\n",
       "    <tr>\n",
       "      <th>221</th>\n",
       "      <td>Sameer Khan</td>\n",
       "      <td>Male</td>\n",
       "      <td>Canada</td>\n",
       "      <td>Choco Coated Almonds</td>\n",
       "      <td>280</td>\n",
       "    </tr>\n",
       "    <tr>\n",
       "      <th>253</th>\n",
       "      <td>Vishnu Advani</td>\n",
       "      <td>Male</td>\n",
       "      <td>India</td>\n",
       "      <td>Choco Coated Almonds</td>\n",
       "      <td>6734</td>\n",
       "    </tr>\n",
       "  </tbody>\n",
       "</table>\n",
       "</div>"
      ],
      "text/plain": [
       "        SalesPerson  Gender   Location               Product  Sales\n",
       "1    Siddhart Singh    Male        USA  Choco Coated Almonds   6706\n",
       "38      Sameer Khan    Male      India  Choco Coated Almonds   3262\n",
       "46       Priya Ranu  Female  Australia  Choco Coated Almonds   5075\n",
       "57    Abhinav Sinha    Male      India  Choco Coated Almonds   7777\n",
       "61    Vishnu Advani    Male     Canada  Choco Coated Almonds   6118\n",
       "98      Mahesh Raju    Male        USA  Choco Coated Almonds  12348\n",
       "128   Sundar Prasad    Male     Canada  Choco Coated Almonds   6657\n",
       "137  Siddhart Singh    Male  Australia  Choco Coated Almonds   3752\n",
       "200  Simran Prakash  Female     Canada  Choco Coated Almonds  10304\n",
       "220   Hussain Abdul    Male     Canada  Choco Coated Almonds   2954\n",
       "221     Sameer Khan    Male     Canada  Choco Coated Almonds    280\n",
       "253   Vishnu Advani    Male      India  Choco Coated Almonds   6734"
      ]
     },
     "execution_count": 40,
     "metadata": {},
     "output_type": "execute_result"
    }
   ],
   "source": [
    "# The product records starts with Choco\n",
    "df_[df_[\"Product\"].str.match(\"^Choco.*\")==True]"
   ]
  },
  {
   "cell_type": "code",
   "execution_count": 41,
   "id": "33b63d4f",
   "metadata": {},
   "outputs": [
    {
     "data": {
      "text/html": [
       "<div>\n",
       "<style scoped>\n",
       "    .dataframe tbody tr th:only-of-type {\n",
       "        vertical-align: middle;\n",
       "    }\n",
       "\n",
       "    .dataframe tbody tr th {\n",
       "        vertical-align: top;\n",
       "    }\n",
       "\n",
       "    .dataframe thead th {\n",
       "        text-align: right;\n",
       "    }\n",
       "</style>\n",
       "<table border=\"1\" class=\"dataframe\">\n",
       "  <thead>\n",
       "    <tr style=\"text-align: right;\">\n",
       "      <th></th>\n",
       "      <th>SalesPerson</th>\n",
       "      <th>Gender</th>\n",
       "      <th>Location</th>\n",
       "      <th>Product</th>\n",
       "      <th>Sales</th>\n",
       "    </tr>\n",
       "  </thead>\n",
       "  <tbody>\n",
       "    <tr>\n",
       "      <th>2</th>\n",
       "      <td>Hussain Abdul</td>\n",
       "      <td>Male</td>\n",
       "      <td>USA</td>\n",
       "      <td>Almond Choco</td>\n",
       "      <td>959</td>\n",
       "    </tr>\n",
       "    <tr>\n",
       "      <th>12</th>\n",
       "      <td>Hussain Abdul</td>\n",
       "      <td>Male</td>\n",
       "      <td>Australia</td>\n",
       "      <td>Mint Chip Choco</td>\n",
       "      <td>2646</td>\n",
       "    </tr>\n",
       "    <tr>\n",
       "      <th>15</th>\n",
       "      <td>Abhinav Sinha</td>\n",
       "      <td>Male</td>\n",
       "      <td>USA</td>\n",
       "      <td>Manuka Honey Choco</td>\n",
       "      <td>2114</td>\n",
       "    </tr>\n",
       "    <tr>\n",
       "      <th>17</th>\n",
       "      <td>Priya Ranu</td>\n",
       "      <td>Female</td>\n",
       "      <td>India</td>\n",
       "      <td>Orange Choco</td>\n",
       "      <td>15610</td>\n",
       "    </tr>\n",
       "    <tr>\n",
       "      <th>19</th>\n",
       "      <td>Dinesh Mehta</td>\n",
       "      <td>Male</td>\n",
       "      <td>UK</td>\n",
       "      <td>Orange Choco</td>\n",
       "      <td>9443</td>\n",
       "    </tr>\n",
       "    <tr>\n",
       "      <th>...</th>\n",
       "      <td>...</td>\n",
       "      <td>...</td>\n",
       "      <td>...</td>\n",
       "      <td>...</td>\n",
       "      <td>...</td>\n",
       "    </tr>\n",
       "    <tr>\n",
       "      <th>286</th>\n",
       "      <td>Vishnu Advani</td>\n",
       "      <td>Male</td>\n",
       "      <td>Canada</td>\n",
       "      <td>Manuka Honey Choco</td>\n",
       "      <td>1400</td>\n",
       "    </tr>\n",
       "    <tr>\n",
       "      <th>289</th>\n",
       "      <td>Abhinav Sinha</td>\n",
       "      <td>Male</td>\n",
       "      <td>UK</td>\n",
       "      <td>Manuka Honey Choco</td>\n",
       "      <td>3640</td>\n",
       "    </tr>\n",
       "    <tr>\n",
       "      <th>294</th>\n",
       "      <td>Sameer Khan</td>\n",
       "      <td>Male</td>\n",
       "      <td>New Zealand</td>\n",
       "      <td>Mint Chip Choco</td>\n",
       "      <td>4487</td>\n",
       "    </tr>\n",
       "    <tr>\n",
       "      <th>295</th>\n",
       "      <td>Abhinav Sinha</td>\n",
       "      <td>Male</td>\n",
       "      <td>New Zealand</td>\n",
       "      <td>Almond Choco</td>\n",
       "      <td>938</td>\n",
       "    </tr>\n",
       "    <tr>\n",
       "      <th>298</th>\n",
       "      <td>Simran Prakash</td>\n",
       "      <td>Female</td>\n",
       "      <td>New Zealand</td>\n",
       "      <td>Raspberry Choco</td>\n",
       "      <td>714</td>\n",
       "    </tr>\n",
       "  </tbody>\n",
       "</table>\n",
       "<p>66 rows × 5 columns</p>\n",
       "</div>"
      ],
      "text/plain": [
       "        SalesPerson  Gender     Location             Product  Sales\n",
       "2     Hussain Abdul    Male          USA        Almond Choco    959\n",
       "12    Hussain Abdul    Male    Australia     Mint Chip Choco   2646\n",
       "15    Abhinav Sinha    Male          USA  Manuka Honey Choco   2114\n",
       "17       Priya Ranu  Female        India        Orange Choco  15610\n",
       "19     Dinesh Mehta    Male           UK        Orange Choco   9443\n",
       "..              ...     ...          ...                 ...    ...\n",
       "286   Vishnu Advani    Male       Canada  Manuka Honey Choco   1400\n",
       "289   Abhinav Sinha    Male           UK  Manuka Honey Choco   3640\n",
       "294     Sameer Khan    Male  New Zealand     Mint Chip Choco   4487\n",
       "295   Abhinav Sinha    Male  New Zealand        Almond Choco    938\n",
       "298  Simran Prakash  Female  New Zealand     Raspberry Choco    714\n",
       "\n",
       "[66 rows x 5 columns]"
      ]
     },
     "execution_count": 41,
     "metadata": {},
     "output_type": "execute_result"
    }
   ],
   "source": [
    "# The product records Ends with Choco\n",
    "df_[df_['Product'].str.match(\".*Choco$\")==True]"
   ]
  },
  {
   "cell_type": "code",
   "execution_count": 42,
   "id": "832b8abd",
   "metadata": {},
   "outputs": [
    {
     "data": {
      "text/html": [
       "<div>\n",
       "<style scoped>\n",
       "    .dataframe tbody tr th:only-of-type {\n",
       "        vertical-align: middle;\n",
       "    }\n",
       "\n",
       "    .dataframe tbody tr th {\n",
       "        vertical-align: top;\n",
       "    }\n",
       "\n",
       "    .dataframe thead th {\n",
       "        text-align: right;\n",
       "    }\n",
       "</style>\n",
       "<table border=\"1\" class=\"dataframe\">\n",
       "  <thead>\n",
       "    <tr style=\"text-align: right;\">\n",
       "      <th></th>\n",
       "      <th>SalesPerson</th>\n",
       "      <th>Gender</th>\n",
       "      <th>Location</th>\n",
       "      <th>Product</th>\n",
       "      <th>Sales</th>\n",
       "    </tr>\n",
       "  </thead>\n",
       "  <tbody>\n",
       "    <tr>\n",
       "      <th>1</th>\n",
       "      <td>Siddhart Singh</td>\n",
       "      <td>Male</td>\n",
       "      <td>USA</td>\n",
       "      <td>Choco Coated Almonds</td>\n",
       "      <td>6706</td>\n",
       "    </tr>\n",
       "    <tr>\n",
       "      <th>2</th>\n",
       "      <td>Hussain Abdul</td>\n",
       "      <td>Male</td>\n",
       "      <td>USA</td>\n",
       "      <td>Almond Choco</td>\n",
       "      <td>959</td>\n",
       "    </tr>\n",
       "    <tr>\n",
       "      <th>12</th>\n",
       "      <td>Hussain Abdul</td>\n",
       "      <td>Male</td>\n",
       "      <td>Australia</td>\n",
       "      <td>Mint Chip Choco</td>\n",
       "      <td>2646</td>\n",
       "    </tr>\n",
       "    <tr>\n",
       "      <th>15</th>\n",
       "      <td>Abhinav Sinha</td>\n",
       "      <td>Male</td>\n",
       "      <td>USA</td>\n",
       "      <td>Manuka Honey Choco</td>\n",
       "      <td>2114</td>\n",
       "    </tr>\n",
       "    <tr>\n",
       "      <th>17</th>\n",
       "      <td>Priya Ranu</td>\n",
       "      <td>Female</td>\n",
       "      <td>India</td>\n",
       "      <td>Orange Choco</td>\n",
       "      <td>15610</td>\n",
       "    </tr>\n",
       "    <tr>\n",
       "      <th>...</th>\n",
       "      <td>...</td>\n",
       "      <td>...</td>\n",
       "      <td>...</td>\n",
       "      <td>...</td>\n",
       "      <td>...</td>\n",
       "    </tr>\n",
       "    <tr>\n",
       "      <th>291</th>\n",
       "      <td>Hussain Abdul</td>\n",
       "      <td>Male</td>\n",
       "      <td>USA</td>\n",
       "      <td>Organic Choco Syrup</td>\n",
       "      <td>2429</td>\n",
       "    </tr>\n",
       "    <tr>\n",
       "      <th>294</th>\n",
       "      <td>Sameer Khan</td>\n",
       "      <td>Male</td>\n",
       "      <td>New Zealand</td>\n",
       "      <td>Mint Chip Choco</td>\n",
       "      <td>4487</td>\n",
       "    </tr>\n",
       "    <tr>\n",
       "      <th>295</th>\n",
       "      <td>Abhinav Sinha</td>\n",
       "      <td>Male</td>\n",
       "      <td>New Zealand</td>\n",
       "      <td>Almond Choco</td>\n",
       "      <td>938</td>\n",
       "    </tr>\n",
       "    <tr>\n",
       "      <th>296</th>\n",
       "      <td>Abhinav Sinha</td>\n",
       "      <td>Male</td>\n",
       "      <td>Australia</td>\n",
       "      <td>Baker's Choco Chips</td>\n",
       "      <td>8841</td>\n",
       "    </tr>\n",
       "    <tr>\n",
       "      <th>298</th>\n",
       "      <td>Simran Prakash</td>\n",
       "      <td>Female</td>\n",
       "      <td>New Zealand</td>\n",
       "      <td>Raspberry Choco</td>\n",
       "      <td>714</td>\n",
       "    </tr>\n",
       "  </tbody>\n",
       "</table>\n",
       "<p>113 rows × 5 columns</p>\n",
       "</div>"
      ],
      "text/plain": [
       "        SalesPerson  Gender     Location               Product  Sales\n",
       "1    Siddhart Singh    Male          USA  Choco Coated Almonds   6706\n",
       "2     Hussain Abdul    Male          USA          Almond Choco    959\n",
       "12    Hussain Abdul    Male    Australia       Mint Chip Choco   2646\n",
       "15    Abhinav Sinha    Male          USA    Manuka Honey Choco   2114\n",
       "17       Priya Ranu  Female        India          Orange Choco  15610\n",
       "..              ...     ...          ...                   ...    ...\n",
       "291   Hussain Abdul    Male          USA   Organic Choco Syrup   2429\n",
       "294     Sameer Khan    Male  New Zealand       Mint Chip Choco   4487\n",
       "295   Abhinav Sinha    Male  New Zealand          Almond Choco    938\n",
       "296   Abhinav Sinha    Male    Australia   Baker's Choco Chips   8841\n",
       "298  Simran Prakash  Female  New Zealand       Raspberry Choco    714\n",
       "\n",
       "[113 rows x 5 columns]"
      ]
     },
     "execution_count": 42,
     "metadata": {},
     "output_type": "execute_result"
    }
   ],
   "source": [
    "# The product records that has Choco in product name\n",
    "df_[df_['Product'].str.match(\"^.*Choco.*$\")==True]"
   ]
  },
  {
   "cell_type": "code",
   "execution_count": 43,
   "id": "a97d37ce",
   "metadata": {},
   "outputs": [
    {
     "data": {
      "text/plain": [
       "array(['Mahesh Raju', 'Siddhart Singh', 'Hussain Abdul', 'Simran Prakash',\n",
       "       'Vishnu Advani', 'Sameer Khan', 'Priya Ranu', 'Dinesh Mehta',\n",
       "       'Abhinav Sinha', 'Sundar Prasad'], dtype=object)"
      ]
     },
     "execution_count": 43,
     "metadata": {},
     "output_type": "execute_result"
    }
   ],
   "source": [
    "df_[\"SalesPerson\"].unique()"
   ]
  },
  {
   "cell_type": "code",
   "execution_count": 46,
   "id": "b9ccf457",
   "metadata": {},
   "outputs": [
    {
     "data": {
      "text/html": [
       "<div>\n",
       "<style scoped>\n",
       "    .dataframe tbody tr th:only-of-type {\n",
       "        vertical-align: middle;\n",
       "    }\n",
       "\n",
       "    .dataframe tbody tr th {\n",
       "        vertical-align: top;\n",
       "    }\n",
       "\n",
       "    .dataframe thead th {\n",
       "        text-align: right;\n",
       "    }\n",
       "</style>\n",
       "<table border=\"1\" class=\"dataframe\">\n",
       "  <thead>\n",
       "    <tr style=\"text-align: right;\">\n",
       "      <th></th>\n",
       "      <th>SalesPerson</th>\n",
       "      <th>Gender</th>\n",
       "      <th>Location</th>\n",
       "      <th>Product</th>\n",
       "      <th>Sales</th>\n",
       "    </tr>\n",
       "  </thead>\n",
       "  <tbody>\n",
       "    <tr>\n",
       "      <th>9</th>\n",
       "      <td>Priya Ranu</td>\n",
       "      <td>Female</td>\n",
       "      <td>New Zealand</td>\n",
       "      <td>50% Dark Bites</td>\n",
       "      <td>4991</td>\n",
       "    </tr>\n",
       "    <tr>\n",
       "      <th>17</th>\n",
       "      <td>Priya Ranu</td>\n",
       "      <td>Female</td>\n",
       "      <td>India</td>\n",
       "      <td>Orange Choco</td>\n",
       "      <td>15610</td>\n",
       "    </tr>\n",
       "    <tr>\n",
       "      <th>28</th>\n",
       "      <td>Priya Ranu</td>\n",
       "      <td>Female</td>\n",
       "      <td>Canada</td>\n",
       "      <td>Fruit &amp; Nut Bars</td>\n",
       "      <td>6314</td>\n",
       "    </tr>\n",
       "    <tr>\n",
       "      <th>40</th>\n",
       "      <td>Priya Ranu</td>\n",
       "      <td>Female</td>\n",
       "      <td>India</td>\n",
       "      <td>Organic Choco Syrup</td>\n",
       "      <td>6986</td>\n",
       "    </tr>\n",
       "    <tr>\n",
       "      <th>46</th>\n",
       "      <td>Priya Ranu</td>\n",
       "      <td>Female</td>\n",
       "      <td>Australia</td>\n",
       "      <td>Choco Coated Almonds</td>\n",
       "      <td>5075</td>\n",
       "    </tr>\n",
       "    <tr>\n",
       "      <th>50</th>\n",
       "      <td>Priya Ranu</td>\n",
       "      <td>Female</td>\n",
       "      <td>Canada</td>\n",
       "      <td>Mint Chip Choco</td>\n",
       "      <td>16184</td>\n",
       "    </tr>\n",
       "    <tr>\n",
       "      <th>59</th>\n",
       "      <td>Priya Ranu</td>\n",
       "      <td>Female</td>\n",
       "      <td>New Zealand</td>\n",
       "      <td>Smooth Sliky Salty</td>\n",
       "      <td>182</td>\n",
       "    </tr>\n",
       "    <tr>\n",
       "      <th>67</th>\n",
       "      <td>Priya Ranu</td>\n",
       "      <td>Female</td>\n",
       "      <td>USA</td>\n",
       "      <td>Drinking Coco</td>\n",
       "      <td>2415</td>\n",
       "    </tr>\n",
       "    <tr>\n",
       "      <th>69</th>\n",
       "      <td>Priya Ranu</td>\n",
       "      <td>Female</td>\n",
       "      <td>India</td>\n",
       "      <td>99% Dark &amp; Pure</td>\n",
       "      <td>861</td>\n",
       "    </tr>\n",
       "    <tr>\n",
       "      <th>74</th>\n",
       "      <td>Priya Ranu</td>\n",
       "      <td>Female</td>\n",
       "      <td>India</td>\n",
       "      <td>Manuka Honey Choco</td>\n",
       "      <td>2891</td>\n",
       "    </tr>\n",
       "    <tr>\n",
       "      <th>79</th>\n",
       "      <td>Priya Ranu</td>\n",
       "      <td>Female</td>\n",
       "      <td>USA</td>\n",
       "      <td>Raspberry Choco</td>\n",
       "      <td>13391</td>\n",
       "    </tr>\n",
       "    <tr>\n",
       "      <th>90</th>\n",
       "      <td>Priya Ranu</td>\n",
       "      <td>Female</td>\n",
       "      <td>Australia</td>\n",
       "      <td>Milk Bars</td>\n",
       "      <td>7189</td>\n",
       "    </tr>\n",
       "    <tr>\n",
       "      <th>103</th>\n",
       "      <td>Priya Ranu</td>\n",
       "      <td>Female</td>\n",
       "      <td>USA</td>\n",
       "      <td>Almond Choco</td>\n",
       "      <td>2744</td>\n",
       "    </tr>\n",
       "    <tr>\n",
       "      <th>110</th>\n",
       "      <td>Priya Ranu</td>\n",
       "      <td>Female</td>\n",
       "      <td>UK</td>\n",
       "      <td>Baker's Choco Chips</td>\n",
       "      <td>5236</td>\n",
       "    </tr>\n",
       "    <tr>\n",
       "      <th>132</th>\n",
       "      <td>Priya Ranu</td>\n",
       "      <td>Female</td>\n",
       "      <td>Canada</td>\n",
       "      <td>Eclairs</td>\n",
       "      <td>3339</td>\n",
       "    </tr>\n",
       "    <tr>\n",
       "      <th>134</th>\n",
       "      <td>Priya Ranu</td>\n",
       "      <td>Female</td>\n",
       "      <td>New Zealand</td>\n",
       "      <td>After Nines</td>\n",
       "      <td>518</td>\n",
       "    </tr>\n",
       "    <tr>\n",
       "      <th>138</th>\n",
       "      <td>Priya Ranu</td>\n",
       "      <td>Female</td>\n",
       "      <td>USA</td>\n",
       "      <td>Manuka Honey Choco</td>\n",
       "      <td>4480</td>\n",
       "    </tr>\n",
       "    <tr>\n",
       "      <th>156</th>\n",
       "      <td>Priya Ranu</td>\n",
       "      <td>Female</td>\n",
       "      <td>India</td>\n",
       "      <td>Raspberry Choco</td>\n",
       "      <td>7280</td>\n",
       "    </tr>\n",
       "    <tr>\n",
       "      <th>171</th>\n",
       "      <td>Priya Ranu</td>\n",
       "      <td>Female</td>\n",
       "      <td>India</td>\n",
       "      <td>Peanut Butter Cubes</td>\n",
       "      <td>1652</td>\n",
       "    </tr>\n",
       "    <tr>\n",
       "      <th>189</th>\n",
       "      <td>Priya Ranu</td>\n",
       "      <td>Female</td>\n",
       "      <td>Canada</td>\n",
       "      <td>Milk Bars</td>\n",
       "      <td>6146</td>\n",
       "    </tr>\n",
       "    <tr>\n",
       "      <th>202</th>\n",
       "      <td>Priya Ranu</td>\n",
       "      <td>Female</td>\n",
       "      <td>Canada</td>\n",
       "      <td>70% Dark Bites</td>\n",
       "      <td>1526</td>\n",
       "    </tr>\n",
       "    <tr>\n",
       "      <th>206</th>\n",
       "      <td>Priya Ranu</td>\n",
       "      <td>Female</td>\n",
       "      <td>UK</td>\n",
       "      <td>85% Dark Bars</td>\n",
       "      <td>4018</td>\n",
       "    </tr>\n",
       "    <tr>\n",
       "      <th>213</th>\n",
       "      <td>Priya Ranu</td>\n",
       "      <td>Female</td>\n",
       "      <td>UK</td>\n",
       "      <td>After Nines</td>\n",
       "      <td>6909</td>\n",
       "    </tr>\n",
       "    <tr>\n",
       "      <th>218</th>\n",
       "      <td>Priya Ranu</td>\n",
       "      <td>Female</td>\n",
       "      <td>UK</td>\n",
       "      <td>Drinking Coco</td>\n",
       "      <td>385</td>\n",
       "    </tr>\n",
       "    <tr>\n",
       "      <th>230</th>\n",
       "      <td>Priya Ranu</td>\n",
       "      <td>Female</td>\n",
       "      <td>New Zealand</td>\n",
       "      <td>White Choc</td>\n",
       "      <td>8813</td>\n",
       "    </tr>\n",
       "    <tr>\n",
       "      <th>231</th>\n",
       "      <td>Priya Ranu</td>\n",
       "      <td>Female</td>\n",
       "      <td>Canada</td>\n",
       "      <td>Drinking Coco</td>\n",
       "      <td>6111</td>\n",
       "    </tr>\n",
       "    <tr>\n",
       "      <th>236</th>\n",
       "      <td>Priya Ranu</td>\n",
       "      <td>Female</td>\n",
       "      <td>Australia</td>\n",
       "      <td>99% Dark &amp; Pure</td>\n",
       "      <td>5474</td>\n",
       "    </tr>\n",
       "    <tr>\n",
       "      <th>255</th>\n",
       "      <td>Priya Ranu</td>\n",
       "      <td>Female</td>\n",
       "      <td>India</td>\n",
       "      <td>After Nines</td>\n",
       "      <td>6279</td>\n",
       "    </tr>\n",
       "    <tr>\n",
       "      <th>258</th>\n",
       "      <td>Priya Ranu</td>\n",
       "      <td>Female</td>\n",
       "      <td>USA</td>\n",
       "      <td>After Nines</td>\n",
       "      <td>490</td>\n",
       "    </tr>\n",
       "    <tr>\n",
       "      <th>278</th>\n",
       "      <td>Priya Ranu</td>\n",
       "      <td>Female</td>\n",
       "      <td>USA</td>\n",
       "      <td>Smooth Sliky Salty</td>\n",
       "      <td>4753</td>\n",
       "    </tr>\n",
       "    <tr>\n",
       "      <th>283</th>\n",
       "      <td>Priya Ranu</td>\n",
       "      <td>Female</td>\n",
       "      <td>Australia</td>\n",
       "      <td>White Choc</td>\n",
       "      <td>7483</td>\n",
       "    </tr>\n",
       "  </tbody>\n",
       "</table>\n",
       "</div>"
      ],
      "text/plain": [
       "    SalesPerson  Gender     Location               Product  Sales\n",
       "9    Priya Ranu  Female  New Zealand        50% Dark Bites   4991\n",
       "17   Priya Ranu  Female        India          Orange Choco  15610\n",
       "28   Priya Ranu  Female       Canada      Fruit & Nut Bars   6314\n",
       "40   Priya Ranu  Female        India   Organic Choco Syrup   6986\n",
       "46   Priya Ranu  Female    Australia  Choco Coated Almonds   5075\n",
       "50   Priya Ranu  Female       Canada       Mint Chip Choco  16184\n",
       "59   Priya Ranu  Female  New Zealand    Smooth Sliky Salty    182\n",
       "67   Priya Ranu  Female          USA         Drinking Coco   2415\n",
       "69   Priya Ranu  Female        India       99% Dark & Pure    861\n",
       "74   Priya Ranu  Female        India    Manuka Honey Choco   2891\n",
       "79   Priya Ranu  Female          USA       Raspberry Choco  13391\n",
       "90   Priya Ranu  Female    Australia             Milk Bars   7189\n",
       "103  Priya Ranu  Female          USA          Almond Choco   2744\n",
       "110  Priya Ranu  Female           UK   Baker's Choco Chips   5236\n",
       "132  Priya Ranu  Female       Canada               Eclairs   3339\n",
       "134  Priya Ranu  Female  New Zealand           After Nines    518\n",
       "138  Priya Ranu  Female          USA    Manuka Honey Choco   4480\n",
       "156  Priya Ranu  Female        India       Raspberry Choco   7280\n",
       "171  Priya Ranu  Female        India   Peanut Butter Cubes   1652\n",
       "189  Priya Ranu  Female       Canada             Milk Bars   6146\n",
       "202  Priya Ranu  Female       Canada        70% Dark Bites   1526\n",
       "206  Priya Ranu  Female           UK         85% Dark Bars   4018\n",
       "213  Priya Ranu  Female           UK           After Nines   6909\n",
       "218  Priya Ranu  Female           UK         Drinking Coco    385\n",
       "230  Priya Ranu  Female  New Zealand            White Choc   8813\n",
       "231  Priya Ranu  Female       Canada         Drinking Coco   6111\n",
       "236  Priya Ranu  Female    Australia       99% Dark & Pure   5474\n",
       "255  Priya Ranu  Female        India           After Nines   6279\n",
       "258  Priya Ranu  Female          USA           After Nines    490\n",
       "278  Priya Ranu  Female          USA    Smooth Sliky Salty   4753\n",
       "283  Priya Ranu  Female    Australia            White Choc   7483"
      ]
     },
     "execution_count": 46,
     "metadata": {},
     "output_type": "execute_result"
    }
   ],
   "source": [
    "# sales person records starts with p\n",
    "df_[df_['SalesPerson'].str.contains(\"^[Pp].*\")==True]"
   ]
  },
  {
   "cell_type": "code",
   "execution_count": 47,
   "id": "6dd0d792",
   "metadata": {},
   "outputs": [
    {
     "data": {
      "text/html": [
       "<div>\n",
       "<style scoped>\n",
       "    .dataframe tbody tr th:only-of-type {\n",
       "        vertical-align: middle;\n",
       "    }\n",
       "\n",
       "    .dataframe tbody tr th {\n",
       "        vertical-align: top;\n",
       "    }\n",
       "\n",
       "    .dataframe thead th {\n",
       "        text-align: right;\n",
       "    }\n",
       "</style>\n",
       "<table border=\"1\" class=\"dataframe\">\n",
       "  <thead>\n",
       "    <tr style=\"text-align: right;\">\n",
       "      <th></th>\n",
       "      <th>SalesPerson</th>\n",
       "      <th>Gender</th>\n",
       "      <th>Location</th>\n",
       "      <th>Product</th>\n",
       "      <th>Sales</th>\n",
       "    </tr>\n",
       "  </thead>\n",
       "  <tbody>\n",
       "    <tr>\n",
       "      <th>0</th>\n",
       "      <td>Mahesh Raju</td>\n",
       "      <td>Male</td>\n",
       "      <td>New Zealand</td>\n",
       "      <td>70% Dark Bites</td>\n",
       "      <td>1624</td>\n",
       "    </tr>\n",
       "    <tr>\n",
       "      <th>5</th>\n",
       "      <td>Mahesh Raju</td>\n",
       "      <td>Male</td>\n",
       "      <td>USA</td>\n",
       "      <td>Peanut Butter Cubes</td>\n",
       "      <td>8869</td>\n",
       "    </tr>\n",
       "    <tr>\n",
       "      <th>9</th>\n",
       "      <td>Priya Ranu</td>\n",
       "      <td>Female</td>\n",
       "      <td>New Zealand</td>\n",
       "      <td>50% Dark Bites</td>\n",
       "      <td>4991</td>\n",
       "    </tr>\n",
       "    <tr>\n",
       "      <th>17</th>\n",
       "      <td>Priya Ranu</td>\n",
       "      <td>Female</td>\n",
       "      <td>India</td>\n",
       "      <td>Orange Choco</td>\n",
       "      <td>15610</td>\n",
       "    </tr>\n",
       "    <tr>\n",
       "      <th>28</th>\n",
       "      <td>Priya Ranu</td>\n",
       "      <td>Female</td>\n",
       "      <td>Canada</td>\n",
       "      <td>Fruit &amp; Nut Bars</td>\n",
       "      <td>6314</td>\n",
       "    </tr>\n",
       "    <tr>\n",
       "      <th>...</th>\n",
       "      <td>...</td>\n",
       "      <td>...</td>\n",
       "      <td>...</td>\n",
       "      <td>...</td>\n",
       "      <td>...</td>\n",
       "    </tr>\n",
       "    <tr>\n",
       "      <th>267</th>\n",
       "      <td>Mahesh Raju</td>\n",
       "      <td>Male</td>\n",
       "      <td>UK</td>\n",
       "      <td>Raspberry Choco</td>\n",
       "      <td>5775</td>\n",
       "    </tr>\n",
       "    <tr>\n",
       "      <th>271</th>\n",
       "      <td>Mahesh Raju</td>\n",
       "      <td>Male</td>\n",
       "      <td>USA</td>\n",
       "      <td>Manuka Honey Choco</td>\n",
       "      <td>1617</td>\n",
       "    </tr>\n",
       "    <tr>\n",
       "      <th>278</th>\n",
       "      <td>Priya Ranu</td>\n",
       "      <td>Female</td>\n",
       "      <td>USA</td>\n",
       "      <td>Smooth Sliky Salty</td>\n",
       "      <td>4753</td>\n",
       "    </tr>\n",
       "    <tr>\n",
       "      <th>283</th>\n",
       "      <td>Priya Ranu</td>\n",
       "      <td>Female</td>\n",
       "      <td>Australia</td>\n",
       "      <td>White Choc</td>\n",
       "      <td>7483</td>\n",
       "    </tr>\n",
       "    <tr>\n",
       "      <th>285</th>\n",
       "      <td>Mahesh Raju</td>\n",
       "      <td>Male</td>\n",
       "      <td>New Zealand</td>\n",
       "      <td>Manuka Honey Choco</td>\n",
       "      <td>9002</td>\n",
       "    </tr>\n",
       "  </tbody>\n",
       "</table>\n",
       "<p>65 rows × 5 columns</p>\n",
       "</div>"
      ],
      "text/plain": [
       "     SalesPerson  Gender     Location              Product  Sales\n",
       "0    Mahesh Raju    Male  New Zealand       70% Dark Bites   1624\n",
       "5    Mahesh Raju    Male          USA  Peanut Butter Cubes   8869\n",
       "9     Priya Ranu  Female  New Zealand       50% Dark Bites   4991\n",
       "17    Priya Ranu  Female        India         Orange Choco  15610\n",
       "28    Priya Ranu  Female       Canada     Fruit & Nut Bars   6314\n",
       "..           ...     ...          ...                  ...    ...\n",
       "267  Mahesh Raju    Male           UK      Raspberry Choco   5775\n",
       "271  Mahesh Raju    Male          USA   Manuka Honey Choco   1617\n",
       "278   Priya Ranu  Female          USA   Smooth Sliky Salty   4753\n",
       "283   Priya Ranu  Female    Australia           White Choc   7483\n",
       "285  Mahesh Raju    Male  New Zealand   Manuka Honey Choco   9002\n",
       "\n",
       "[65 rows x 5 columns]"
      ]
     },
     "execution_count": 47,
     "metadata": {},
     "output_type": "execute_result"
    }
   ],
   "source": [
    "df_[df_['SalesPerson'].str.contains(\".*[Uu]$\")==True]"
   ]
  },
  {
   "cell_type": "code",
   "execution_count": null,
   "id": "8dbae86c",
   "metadata": {},
   "outputs": [],
   "source": []
  }
 ],
 "metadata": {
  "kernelspec": {
   "display_name": "Python 3 (ipykernel)",
   "language": "python",
   "name": "python3"
  },
  "language_info": {
   "codemirror_mode": {
    "name": "ipython",
    "version": 3
   },
   "file_extension": ".py",
   "mimetype": "text/x-python",
   "name": "python",
   "nbconvert_exporter": "python",
   "pygments_lexer": "ipython3",
   "version": "3.10.9"
  }
 },
 "nbformat": 4,
 "nbformat_minor": 5
}
