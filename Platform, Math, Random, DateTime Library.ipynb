{
 "cells": [
  {
   "cell_type": "markdown",
   "id": "8b72b600",
   "metadata": {},
   "source": [
    "# Libraries in Python"
   ]
  },
  {
   "cell_type": "code",
   "execution_count": 18,
   "id": "b64fc1df",
   "metadata": {},
   "outputs": [],
   "source": [
    "# It is a collection functions and codes\n",
    "# Which helps to perfrom a specific tasks like creating Visuals,\n",
    "# Creating Connections, Fetching Random numbers, Fetching DateTime Etc.\n",
    "# Python has 1Lakhs+ Libraries"
   ]
  },
  {
   "cell_type": "code",
   "execution_count": null,
   "id": "b3974fa4",
   "metadata": {},
   "outputs": [],
   "source": [
    "# to use any kind of library import keyword need to use "
   ]
  },
  {
   "cell_type": "code",
   "execution_count": 19,
   "id": "8a307d8b",
   "metadata": {},
   "outputs": [
    {
     "name": "stdout",
     "output_type": "stream",
     "text": [
      "3.10.9\n"
     ]
    }
   ],
   "source": [
    "# to get the python Version\n",
    "# Platform library helps to get the version of python\n",
    "import platform\n",
    "from platform import python_version\n",
    "print(python_version())"
   ]
  },
  {
   "cell_type": "code",
   "execution_count": 21,
   "id": "1317f3d9",
   "metadata": {},
   "outputs": [
    {
     "name": "stdout",
     "output_type": "stream",
     "text": [
      "12.0\n"
     ]
    }
   ],
   "source": [
    "# Math library is used to perform mathematical formulas\n",
    "import math\n",
    "print(math.sqrt(144))"
   ]
  },
  {
   "cell_type": "code",
   "execution_count": 27,
   "id": "31744e5e",
   "metadata": {},
   "outputs": [
    {
     "name": "stdout",
     "output_type": "stream",
     "text": [
      "5\n"
     ]
    }
   ],
   "source": [
    "# Random library is used to generate any random numbers\n",
    "import random\n",
    "print(random.randint(1,10))"
   ]
  },
  {
   "cell_type": "code",
   "execution_count": 28,
   "id": "0abfaf4c",
   "metadata": {},
   "outputs": [
    {
     "name": "stdout",
     "output_type": "stream",
     "text": [
      "[9, 1, 3, 10, 2, 10, 5, 1, 9, 1]\n"
     ]
    }
   ],
   "source": [
    "# creating a program to store 10 random numbers between 1,10\n",
    "num = []\n",
    "for i in range(1,11):\n",
    "    r = random.randint(1,10)\n",
    "    num.append(r)\n",
    "print(num)"
   ]
  },
  {
   "cell_type": "code",
   "execution_count": 29,
   "id": "e9784f31",
   "metadata": {},
   "outputs": [
    {
     "name": "stdout",
     "output_type": "stream",
     "text": [
      "[9, 1, 3, 10, 2, 5]\n"
     ]
    }
   ],
   "source": [
    "# Creating a program to remove duplicate values form the list\n",
    "unique_num = []\n",
    "for i in num:\n",
    "    if  i not in unique_num:\n",
    "        unique_num.append(i)\n",
    "print(unique_num)"
   ]
  },
  {
   "cell_type": "code",
   "execution_count": 32,
   "id": "8d5b535b",
   "metadata": {},
   "outputs": [
    {
     "name": "stdout",
     "output_type": "stream",
     "text": [
      "Enter Guess Number: 2\n",
      "Your Guess Was Worng!\n",
      "Try Again!\n"
     ]
    }
   ],
   "source": [
    "# Creating a random guess game\n",
    "user = int(input(\"Enter Guess Number: \"))\n",
    "ran = random.randint(1,5)\n",
    "if user == ran:\n",
    "    print(\"Your Guess Was Right!\")\n",
    "else:\n",
    "    print(\"Your Guess Was Worng!\")\n",
    "    print(\"Try Again!\")"
   ]
  },
  {
   "cell_type": "code",
   "execution_count": 33,
   "id": "6129b47c",
   "metadata": {},
   "outputs": [
    {
     "name": "stdout",
     "output_type": "stream",
     "text": [
      "1\n"
     ]
    }
   ],
   "source": [
    "print(ran)"
   ]
  },
  {
   "cell_type": "code",
   "execution_count": 58,
   "id": "c950ae5b",
   "metadata": {},
   "outputs": [
    {
     "data": {
      "text/plain": [
       "str"
      ]
     },
     "execution_count": 58,
     "metadata": {},
     "output_type": "execute_result"
    }
   ],
   "source": [
    "# pyhton doesn't have date time datatype\n",
    "event_date = '2024-01-06'\n",
    "type(event_date)"
   ]
  },
  {
   "cell_type": "code",
   "execution_count": 59,
   "id": "b426d73b",
   "metadata": {},
   "outputs": [
    {
     "ename": "AttributeError",
     "evalue": "'str' object has no attribute 'year'",
     "output_type": "error",
     "traceback": [
      "\u001b[1;31m---------------------------------------------------------------------------\u001b[0m",
      "\u001b[1;31mAttributeError\u001b[0m                            Traceback (most recent call last)",
      "Cell \u001b[1;32mIn[59], line 1\u001b[0m\n\u001b[1;32m----> 1\u001b[0m \u001b[43mevent_date\u001b[49m\u001b[38;5;241;43m.\u001b[39;49m\u001b[43myear\u001b[49m\n",
      "\u001b[1;31mAttributeError\u001b[0m: 'str' object has no attribute 'year'"
     ]
    }
   ],
   "source": [
    "event_date.year"
   ]
  },
  {
   "cell_type": "code",
   "execution_count": 35,
   "id": "7b3f4598",
   "metadata": {},
   "outputs": [],
   "source": [
    "# Datetime Library in python is used to manipulate datatime values\n",
    "import datetime\n",
    "from datetime import datetime,date,time,timedelta"
   ]
  },
  {
   "cell_type": "code",
   "execution_count": null,
   "id": "af15c956",
   "metadata": {},
   "outputs": [],
   "source": [
    "# the datetime format of python datetime library\n",
    "# yyyy-mm-dd hh-mm-ss-ms"
   ]
  },
  {
   "cell_type": "code",
   "execution_count": 36,
   "id": "13b72cff",
   "metadata": {},
   "outputs": [
    {
     "name": "stdout",
     "output_type": "stream",
     "text": [
      "2024-01-05 10:42:59.311663\n"
     ]
    }
   ],
   "source": [
    "# fetching the current date and time value from the local system\n",
    "print(datetime.now())"
   ]
  },
  {
   "cell_type": "code",
   "execution_count": 42,
   "id": "1e51e867",
   "metadata": {},
   "outputs": [
    {
     "name": "stdout",
     "output_type": "stream",
     "text": [
      "2024-01-05 10:45:30.815466\n"
     ]
    }
   ],
   "source": [
    "date = datetime.now()\n",
    "print(date)"
   ]
  },
  {
   "cell_type": "code",
   "execution_count": 43,
   "id": "56090333",
   "metadata": {},
   "outputs": [
    {
     "data": {
      "text/plain": [
       "datetime.datetime"
      ]
     },
     "execution_count": 43,
     "metadata": {},
     "output_type": "execute_result"
    }
   ],
   "source": [
    "type(date)"
   ]
  },
  {
   "cell_type": "code",
   "execution_count": 45,
   "id": "460b4de5",
   "metadata": {},
   "outputs": [
    {
     "name": "stdout",
     "output_type": "stream",
     "text": [
      "2024\n"
     ]
    }
   ],
   "source": [
    "print(date.year)"
   ]
  },
  {
   "cell_type": "code",
   "execution_count": 46,
   "id": "5c82fe47",
   "metadata": {},
   "outputs": [
    {
     "name": "stdout",
     "output_type": "stream",
     "text": [
      "1\n"
     ]
    }
   ],
   "source": [
    "print(date.month)"
   ]
  },
  {
   "cell_type": "code",
   "execution_count": 47,
   "id": "68076732",
   "metadata": {},
   "outputs": [
    {
     "name": "stdout",
     "output_type": "stream",
     "text": [
      "5\n"
     ]
    }
   ],
   "source": [
    "print(date.day)"
   ]
  },
  {
   "cell_type": "code",
   "execution_count": 48,
   "id": "bc3a22c6",
   "metadata": {},
   "outputs": [
    {
     "name": "stdout",
     "output_type": "stream",
     "text": [
      "10\n"
     ]
    }
   ],
   "source": [
    "print(date.hour)"
   ]
  },
  {
   "cell_type": "code",
   "execution_count": 52,
   "id": "a5d2143d",
   "metadata": {},
   "outputs": [
    {
     "name": "stdout",
     "output_type": "stream",
     "text": [
      "January\n"
     ]
    }
   ],
   "source": [
    "# to print monthname\n",
    "print(date.strftime(\"%B\"))"
   ]
  },
  {
   "cell_type": "code",
   "execution_count": 60,
   "id": "37c3125d",
   "metadata": {},
   "outputs": [
    {
     "name": "stdout",
     "output_type": "stream",
     "text": [
      "2024-01-06\n"
     ]
    }
   ],
   "source": [
    "# Converting str date value into datetime datatype value\n",
    "print(event_date)"
   ]
  },
  {
   "cell_type": "code",
   "execution_count": 61,
   "id": "f5c75ae8",
   "metadata": {},
   "outputs": [
    {
     "data": {
      "text/plain": [
       "str"
      ]
     },
     "execution_count": 61,
     "metadata": {},
     "output_type": "execute_result"
    }
   ],
   "source": [
    "type(event_date)"
   ]
  },
  {
   "cell_type": "code",
   "execution_count": 63,
   "id": "6410e114",
   "metadata": {},
   "outputs": [],
   "source": [
    "event_date = datetime.strptime(event_date,\"%Y-%m-%d\")"
   ]
  },
  {
   "cell_type": "code",
   "execution_count": 64,
   "id": "1c8e7a52",
   "metadata": {},
   "outputs": [
    {
     "data": {
      "text/plain": [
       "datetime.datetime"
      ]
     },
     "execution_count": 64,
     "metadata": {},
     "output_type": "execute_result"
    }
   ],
   "source": [
    "type(event_date)"
   ]
  },
  {
   "cell_type": "code",
   "execution_count": 65,
   "id": "6be44ca1",
   "metadata": {},
   "outputs": [
    {
     "data": {
      "text/plain": [
       "'2024'"
      ]
     },
     "execution_count": 65,
     "metadata": {},
     "output_type": "execute_result"
    }
   ],
   "source": [
    "event_date.strftime(\"%Y\")"
   ]
  },
  {
   "cell_type": "code",
   "execution_count": 68,
   "id": "ee130c3b",
   "metadata": {},
   "outputs": [
    {
     "data": {
      "text/plain": [
       "'Saturday'"
      ]
     },
     "execution_count": 68,
     "metadata": {},
     "output_type": "execute_result"
    }
   ],
   "source": [
    "event_date.strftime(\"%A\")"
   ]
  },
  {
   "cell_type": "code",
   "execution_count": 69,
   "id": "0d6100b3",
   "metadata": {},
   "outputs": [
    {
     "name": "stdout",
     "output_type": "stream",
     "text": [
      "<class 'str'>\n",
      "<class 'str'>\n",
      "<class 'str'>\n",
      "<class 'str'>\n"
     ]
    }
   ],
   "source": [
    "order_dates = [\"2023-10-30\",'2023-11-01','2023-11-25','2023-12-15']\n",
    "for i in order_dates:\n",
    "    print(type(i))"
   ]
  },
  {
   "cell_type": "code",
   "execution_count": 72,
   "id": "d4b1b4f0",
   "metadata": {},
   "outputs": [
    {
     "ename": "AttributeError",
     "evalue": "'str' object has no attribute 'strftime'",
     "output_type": "error",
     "traceback": [
      "\u001b[1;31m---------------------------------------------------------------------------\u001b[0m",
      "\u001b[1;31mAttributeError\u001b[0m                            Traceback (most recent call last)",
      "Cell \u001b[1;32mIn[72], line 2\u001b[0m\n\u001b[0;32m      1\u001b[0m \u001b[38;5;28;01mfor\u001b[39;00m i \u001b[38;5;129;01min\u001b[39;00m order_dates:\n\u001b[1;32m----> 2\u001b[0m     \u001b[38;5;28mprint\u001b[39m(\u001b[43mi\u001b[49m\u001b[38;5;241;43m.\u001b[39;49m\u001b[43mstrftime\u001b[49m(\u001b[38;5;124m\"\u001b[39m\u001b[38;5;124m%\u001b[39m\u001b[38;5;124mB\u001b[39m\u001b[38;5;124m\"\u001b[39m))\n",
      "\u001b[1;31mAttributeError\u001b[0m: 'str' object has no attribute 'strftime'"
     ]
    }
   ],
   "source": [
    "for i in order_dates:\n",
    "    print(i.strftime(\"%B\"))"
   ]
  },
  {
   "cell_type": "code",
   "execution_count": 75,
   "id": "95225c88",
   "metadata": {},
   "outputs": [
    {
     "data": {
      "text/plain": [
       "[datetime.datetime(2023, 10, 30, 0, 0),\n",
       " datetime.datetime(2023, 11, 1, 0, 0),\n",
       " datetime.datetime(2023, 11, 25, 0, 0),\n",
       " datetime.datetime(2023, 12, 15, 0, 0)]"
      ]
     },
     "execution_count": 75,
     "metadata": {},
     "output_type": "execute_result"
    }
   ],
   "source": [
    "od_dates"
   ]
  },
  {
   "cell_type": "code",
   "execution_count": 70,
   "id": "ebff36fa",
   "metadata": {},
   "outputs": [
    {
     "name": "stdout",
     "output_type": "stream",
     "text": [
      "October\n",
      "November\n",
      "November\n",
      "December\n"
     ]
    }
   ],
   "source": [
    "od_dates = []\n",
    "for i in order_dates:\n",
    "    con = datetime.strptime(i,\"%Y-%m-%d\")\n",
    "    od_dates.append(con)\n",
    "for i in od_dates:\n",
    "    print(i.strftime(\"%B\"))"
   ]
  },
  {
   "cell_type": "code",
   "execution_count": null,
   "id": "fd343d8e",
   "metadata": {},
   "outputs": [],
   "source": []
  }
 ],
 "metadata": {
  "kernelspec": {
   "display_name": "Python 3 (ipykernel)",
   "language": "python",
   "name": "python3"
  },
  "language_info": {
   "codemirror_mode": {
    "name": "ipython",
    "version": 3
   },
   "file_extension": ".py",
   "mimetype": "text/x-python",
   "name": "python",
   "nbconvert_exporter": "python",
   "pygments_lexer": "ipython3",
   "version": "3.10.9"
  }
 },
 "nbformat": 4,
 "nbformat_minor": 5
}
