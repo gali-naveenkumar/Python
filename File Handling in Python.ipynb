{
 "cells": [
  {
   "cell_type": "markdown",
   "id": "150dfd22",
   "metadata": {},
   "source": [
    "# File Handling In Python"
   ]
  },
  {
   "cell_type": "code",
   "execution_count": 1,
   "id": "c163dc26",
   "metadata": {},
   "outputs": [],
   "source": [
    "# File Handling in python is used to add,read,overwrite and helps to create\n",
    "# a file\n",
    "# To handle any kind of file in python use open() function\n",
    "# syntax of Open function\n",
    "# open(arg1,arg2)\n",
    "# open(\"Filepath\",'mode')\n",
    "# File path is destination of the file\n",
    "# mode is used to handle the file data\n",
    "# types of mode in open function\n",
    "# read-----\"r\"- to read a file content\n",
    "# append---\"a\"- to add a content at the last line\n",
    "# write----\"w\"- to overwrite a content of a file\n",
    "# create---\"x\"- to create a new file\n",
    "# to close the file connection use close() method"
   ]
  },
  {
   "cell_type": "code",
   "execution_count": 2,
   "id": "69599b83",
   "metadata": {},
   "outputs": [],
   "source": [
    "# to create a .txt file in jupyter env\n",
    "create = open(\"SQL.txt\",\"x\")\n",
    "create.close()"
   ]
  },
  {
   "cell_type": "code",
   "execution_count": 3,
   "id": "19938b70",
   "metadata": {},
   "outputs": [],
   "source": [
    "# to create a .csv file in jupyter env\n",
    "create = open(\"data_capturing.csv\",\"x\")\n",
    "create.close()"
   ]
  },
  {
   "cell_type": "code",
   "execution_count": 4,
   "id": "9da8a079",
   "metadata": {},
   "outputs": [],
   "source": [
    "# to create a .txt file on desktop\n",
    "create = open(\"C:/Users/Syed Rahman Hussain/Desktop/Read.txt\",\"x\")\n",
    "create.close()"
   ]
  },
  {
   "cell_type": "code",
   "execution_count": 5,
   "id": "60193951",
   "metadata": {},
   "outputs": [],
   "source": [
    "# to add a content in a file\n",
    "add = open(\"SQL.txt\",\"a\")\n",
    "add.write(\"SQL is a Structured Programming Language!\")\n",
    "add.close()"
   ]
  },
  {
   "cell_type": "code",
   "execution_count": 6,
   "id": "a73987f3",
   "metadata": {},
   "outputs": [
    {
     "name": "stdout",
     "output_type": "stream",
     "text": [
      "SQL is a Structured Programming Language!\n",
      "SQL is a Language to handle data in a Database Application.\n"
     ]
    }
   ],
   "source": [
    "# to read a content of a file\n",
    "a = open(\"SQL.txt\",'r')\n",
    "print(a.read())\n",
    "a.close()"
   ]
  },
  {
   "cell_type": "code",
   "execution_count": 7,
   "id": "ef35dcc8",
   "metadata": {},
   "outputs": [],
   "source": [
    "# to overwrite the file content\n",
    "a = open(\"SQL.txt\",'w')\n",
    "a.write(\"SQL stands for Structured Qurey Language!\")\n",
    "a.close()"
   ]
  },
  {
   "cell_type": "code",
   "execution_count": 8,
   "id": "b3290138",
   "metadata": {},
   "outputs": [],
   "source": [
    "# to delete a file need to use os library\n",
    "# os library is used to operate file and folder of local system\n",
    "# to remove a file\n",
    "import os\n",
    "os.remove(\"SQL.txt\")"
   ]
  },
  {
   "cell_type": "code",
   "execution_count": 9,
   "id": "21534f38",
   "metadata": {},
   "outputs": [],
   "source": [
    "os.remove(\"C:/Users/Syed Rahman Hussain/Desktop/Read.txt\")"
   ]
  },
  {
   "cell_type": "code",
   "execution_count": null,
   "id": "072f1bc9",
   "metadata": {},
   "outputs": [],
   "source": []
  }
 ],
 "metadata": {
  "kernelspec": {
   "display_name": "Python 3 (ipykernel)",
   "language": "python",
   "name": "python3"
  },
  "language_info": {
   "codemirror_mode": {
    "name": "ipython",
    "version": 3
   },
   "file_extension": ".py",
   "mimetype": "text/x-python",
   "name": "python",
   "nbconvert_exporter": "python",
   "pygments_lexer": "ipython3",
   "version": "3.10.9"
  }
 },
 "nbformat": 4,
 "nbformat_minor": 5
}
